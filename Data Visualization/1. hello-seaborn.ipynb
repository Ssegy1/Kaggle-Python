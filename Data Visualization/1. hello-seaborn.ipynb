{
 "cells": [
  {
   "cell_type": "markdown",
   "id": "dece7398",
   "metadata": {
    "papermill": {
     "duration": 0.00396,
     "end_time": "2022-06-09T00:35:31.165827",
     "exception": false,
     "start_time": "2022-06-09T00:35:31.161867",
     "status": "completed"
    },
    "tags": []
   },
   "source": [
    "# Welcome to Data Visualization!  \n",
    "\n",
    "In this hands-on course, you'll learn how to take your data visualizations to the next level with [seaborn](https://seaborn.pydata.org/index.html), a powerful but easy-to-use data visualization tool.  To use seaborn, you'll also learn a bit about how to write code in Python, a popular programming language.  That said,\n",
    "- the course is aimed at those with no prior programming experience, and\n",
    "- each chart uses short and simple code, making seaborn much faster and easier to use than many other data visualization tools (_such as Excel, for instance_).  \n",
    "\n",
    "So, if you've never written a line of code, and you want to learn the **_bare minimum_** to start making faster, more attractive plots today, you're in the right place!  To take a peek at some of the charts you'll make, check out the figures below.\n",
    "\n",
    "![tut1_plots_you_make](https://i.imgur.com/54BoIBW.png)\n",
    "\n",
    "# Your coding environment\n",
    "\n",
    "Take the time now to scroll quickly up and down this page.  You'll notice that there are a lot of different types of information, including:\n",
    "1. **text** (like the text you're reading right now!),\n",
    "2. **code** (which is always contained inside a gray box called a **code cell**), and\n",
    "2. **code output** (or the printed result from running code that always appears immediately below the corresponding code).\n",
    "\n",
    "We refer to these pages as **Jupyter notebooks** (or, often just **notebooks**), and we'll work with them throughout the mini-course.  Another example of a notebook can be found in the image below.  \n",
    "\n",
    "![tut0_notebook](https://i.imgur.com/ccJNqYc.png)\n",
    "\n",
    "In the notebook you're reading now, we've already run all of the code for you.  Soon, you will work with a notebook that allows you to write and run your own code!  \n",
    "\n",
    "# Set up the notebook\n",
    "\n",
    "There are a few lines of code that you'll need to run at the top of every notebook to set up your coding environment.  It's not important to understand these lines of code now, and so we won't go into the details just yet.  (_Notice that it returns as output: `Setup Complete`._)"
   ]
  },
  {
   "cell_type": "code",
   "execution_count": null,
   "id": "99a1864b",
   "metadata": {
    "execution": {
     "iopub.execute_input": "2022-06-09T00:35:31.174020Z",
     "iopub.status.busy": "2022-06-09T00:35:31.173318Z",
     "iopub.status.idle": "2022-06-09T00:35:32.227750Z",
     "shell.execute_reply": "2022-06-09T00:35:32.226812Z"
    },
    "papermill": {
     "duration": 1.06135,
     "end_time": "2022-06-09T00:35:32.230310",
     "exception": false,
     "start_time": "2022-06-09T00:35:31.168960",
     "status": "completed"
    },
    "tags": []
   },
   "outputs": [
    {
     "ename": "",
     "evalue": "",
     "output_type": "error",
     "traceback": [
      "\u001b[1;31mRunning cells with 'c:\\Users\\henry\\AppData\\Local\\Programs\\Python\\Python310\\python.exe' requires ipykernel package.\n",
      "\u001b[1;31mRun the following command to install 'ipykernel' into the Python environment. \n",
      "\u001b[1;31mCommand: 'c:/Users/henry/AppData/Local/Programs/Python/Python310/python.exe -m pip install ipykernel -U --user --force-reinstall'"
     ]
    }
   ],
   "source": [
    "import pandas as pd\n",
    "pd.plotting.register_matplotlib_converters()\n",
    "import matplotlib.pyplot as plt\n",
    "%matplotlib inline\n",
    "import seaborn as sns\n",
    "print(\"Setup Complete\")"
   ]
  },
  {
   "cell_type": "markdown",
   "id": "542b9b15",
   "metadata": {
    "papermill": {
     "duration": 0.002995,
     "end_time": "2022-06-09T00:35:32.238715",
     "exception": false,
     "start_time": "2022-06-09T00:35:32.235720",
     "status": "completed"
    },
    "tags": []
   },
   "source": [
    "# Load the data\n",
    "\n",
    "In this notebook, we'll work with a dataset of historical FIFA rankings for six countries: Argentina (ARG), Brazil (BRA), Spain (ESP), France (FRA), Germany (GER), and Italy (ITA).  The dataset is stored as a CSV file (short for [comma-separated values file](https://bit.ly/2Iu5D4x). Opening the CSV file in Excel shows a row for each date, along with a column for each country. \n",
    "\n",
    "![tut0_fifa_head](https://i.imgur.com/W0E7GjV.png)\n",
    "\n",
    "To load the data into the notebook, we'll use two distinct steps, implemented in the code cell below as follows:\n",
    "- begin by specifying the location (or [filepath](https://bit.ly/1lWCX7s)) where the dataset can be accessed, and then\n",
    "- use the filepath to load the contents of the dataset into the notebook."
   ]
  },
  {
   "cell_type": "code",
   "execution_count": null,
   "id": "a628967e",
   "metadata": {
    "execution": {
     "iopub.execute_input": "2022-06-09T00:35:32.246012Z",
     "iopub.status.busy": "2022-06-09T00:35:32.245635Z",
     "iopub.status.idle": "2022-06-09T00:35:32.275787Z",
     "shell.execute_reply": "2022-06-09T00:35:32.275075Z"
    },
    "papermill": {
     "duration": 0.036173,
     "end_time": "2022-06-09T00:35:32.277815",
     "exception": false,
     "start_time": "2022-06-09T00:35:32.241642",
     "status": "completed"
    },
    "tags": []
   },
   "outputs": [
    {
     "ename": "",
     "evalue": "",
     "output_type": "error",
     "traceback": [
      "\u001b[1;31mRunning cells with 'c:\\Users\\henry\\AppData\\Local\\Programs\\Python\\Python310\\python.exe' requires ipykernel package.\n",
      "\u001b[1;31mRun the following command to install 'ipykernel' into the Python environment. \n",
      "\u001b[1;31mCommand: 'c:/Users/henry/AppData/Local/Programs/Python/Python310/python.exe -m pip install ipykernel -U --user --force-reinstall'"
     ]
    }
   ],
   "source": [
    "# Path of the file to read\n",
    "fifa_filepath = \"../input/fifa.csv\"\n",
    "\n",
    "# Read the file into a variable fifa_data\n",
    "fifa_data = pd.read_csv(fifa_filepath, index_col=\"Date\", parse_dates=True)"
   ]
  },
  {
   "cell_type": "markdown",
   "id": "e95f5e93",
   "metadata": {
    "papermill": {
     "duration": 0.003164,
     "end_time": "2022-06-09T00:35:32.286390",
     "exception": false,
     "start_time": "2022-06-09T00:35:32.283226",
     "status": "completed"
    },
    "tags": []
   },
   "source": [
    "![tut0_read_csv](https://i.imgur.com/I6UEDSK.png)\n",
    "\n",
    "Note that the code cell above has **four** different lines.\n",
    "\n",
    "### Comments\n",
    "\n",
    "Two of the lines are preceded by a pound sign (`#`) and contain text that appears faded and italicized. \n",
    "\n",
    "Both of these lines are completely ignored by the computer when the code is run, and they only appear here so that any human who reads the code can quickly understand it.  We refer to these two lines as **comments**, and it's good practice to include them to make sure that your code is readily interpretable.\n",
    "\n",
    "### Executable code\n",
    "\n",
    "The other two lines are **executable code**, or code that is run by the computer (_in this case, to find and load the dataset_). \n",
    "\n",
    "The first line sets the value of `fifa_filepath` to the location where the dataset can be accessed.  In this case, we've provided the filepath for you (in quotation marks).  _Note that the **comment** immediately above this line of **executable code** provides a quick description of what it does!_\n",
    "\n",
    "The second line sets the value of `fifa_data` to contain all of the information in the dataset.  This is done with `pd.read_csv`.  It is immediately followed by three different pieces of text (underlined in the image above) that are enclosed in parentheses and separated by commas.  These are used to customize the behavior when the dataset is loaded into the notebook:\n",
    " - `fifa_filepath` - The filepath for the dataset always needs to be provided first.\n",
    " - `index_col=\"Date\"` - When we load the dataset, we want each entry in the first column to denote a different row.  To do this, we set the value of `index_col` to the name of the first column (`\"Date\"`, found in cell A1 of the file when it's opened in Excel).\n",
    " - `parse_dates=True` - This tells the notebook to understand the each row label as a date (as opposed to a number or other text with a different meaning).\n",
    " \n",
    "These details will make more sense soon, when you have a chance to load your own dataset in a hands-on exercise.  \n",
    "\n",
    "> For now, it's important to remember that the end result of running both lines of code is that we can now access the dataset from the notebook by using `fifa_data`.\n",
    "\n",
    "By the way, you might have noticed that these lines of code don't have any output (whereas the lines of code you ran earlier in the notebook returned `Setup Complete` as output).  This is expected behavior -- not all code will return output, and this code is a prime example!\n",
    "\n",
    "# Examine the data\n",
    "\n",
    "Now, we'll take a quick look at the dataset in `fifa_data`, to make sure that it loaded properly.  \n",
    "\n",
    "We print the _first_ five rows of the dataset by writing one line of code as follows:\n",
    "- begin with the variable containing the dataset (in this case, `fifa_data`), and then \n",
    "- follow it with `.head()`.\n",
    "\n",
    "You can see this in the line of code below.  "
   ]
  },
  {
   "cell_type": "code",
   "execution_count": null,
   "id": "f0554a7d",
   "metadata": {
    "execution": {
     "iopub.execute_input": "2022-06-09T00:35:32.294240Z",
     "iopub.status.busy": "2022-06-09T00:35:32.293699Z",
     "iopub.status.idle": "2022-06-09T00:35:32.314060Z",
     "shell.execute_reply": "2022-06-09T00:35:32.313430Z"
    },
    "papermill": {
     "duration": 0.026266,
     "end_time": "2022-06-09T00:35:32.315765",
     "exception": false,
     "start_time": "2022-06-09T00:35:32.289499",
     "status": "completed"
    },
    "tags": []
   },
   "outputs": [
    {
     "ename": "",
     "evalue": "",
     "output_type": "error",
     "traceback": [
      "\u001b[1;31mRunning cells with 'c:\\Users\\henry\\AppData\\Local\\Programs\\Python\\Python310\\python.exe' requires ipykernel package.\n",
      "\u001b[1;31mRun the following command to install 'ipykernel' into the Python environment. \n",
      "\u001b[1;31mCommand: 'c:/Users/henry/AppData/Local/Programs/Python/Python310/python.exe -m pip install ipykernel -U --user --force-reinstall'"
     ]
    }
   ],
   "source": [
    "# Print the first 5 rows of the data\n",
    "fifa_data.head()"
   ]
  },
  {
   "cell_type": "markdown",
   "id": "df604577",
   "metadata": {
    "papermill": {
     "duration": 0.003124,
     "end_time": "2022-06-09T00:35:32.322322",
     "exception": false,
     "start_time": "2022-06-09T00:35:32.319198",
     "status": "completed"
    },
    "tags": []
   },
   "source": [
    "Check now that the first five rows agree with the image of the dataset (_from when we saw what it would look like in Excel_) above.\n",
    "\n",
    "# Plot the data\n",
    "\n",
    "In this course, you'll learn about many different plot types.  In many cases, you'll only need one line of code to make a chart!\n",
    "\n",
    "For a sneak peek at what you'll learn, check out the code below that generates a line chart."
   ]
  },
  {
   "cell_type": "code",
   "execution_count": null,
   "id": "60c38a0f",
   "metadata": {
    "execution": {
     "iopub.execute_input": "2022-06-09T00:35:32.330856Z",
     "iopub.status.busy": "2022-06-09T00:35:32.330273Z",
     "iopub.status.idle": "2022-06-09T00:35:32.826571Z",
     "shell.execute_reply": "2022-06-09T00:35:32.825609Z"
    },
    "papermill": {
     "duration": 0.505428,
     "end_time": "2022-06-09T00:35:32.831067",
     "exception": false,
     "start_time": "2022-06-09T00:35:32.325639",
     "status": "completed"
    },
    "tags": []
   },
   "outputs": [
    {
     "ename": "",
     "evalue": "",
     "output_type": "error",
     "traceback": [
      "\u001b[1;31mRunning cells with 'c:\\Users\\henry\\AppData\\Local\\Programs\\Python\\Python310\\python.exe' requires ipykernel package.\n",
      "\u001b[1;31mRun the following command to install 'ipykernel' into the Python environment. \n",
      "\u001b[1;31mCommand: 'c:/Users/henry/AppData/Local/Programs/Python/Python310/python.exe -m pip install ipykernel -U --user --force-reinstall'"
     ]
    }
   ],
   "source": [
    "# Set the width and height of the figure\n",
    "plt.figure(figsize=(16,6))\n",
    "\n",
    "# Line chart showing how FIFA rankings evolved over time \n",
    "sns.lineplot(data=fifa_data)"
   ]
  },
  {
   "cell_type": "markdown",
   "id": "6ad9a0ba",
   "metadata": {
    "papermill": {
     "duration": 0.006054,
     "end_time": "2022-06-09T00:35:32.843591",
     "exception": false,
     "start_time": "2022-06-09T00:35:32.837537",
     "status": "completed"
    },
    "tags": []
   },
   "source": [
    "This code shouldn't make sense just yet, and you'll learn more about it in the upcoming tutorials.  For now, continue to your first exercise, where you'll get a chance to experiment with the coding environment yourself!\n",
    "\n",
    "# What's next?\n",
    "\n",
    "Write your first lines of code in the **[first coding exercise](https://www.kaggle.com/kernels/fork/3303713)**!"
   ]
  },
  {
   "cell_type": "markdown",
   "id": "dcfc8376",
   "metadata": {
    "papermill": {
     "duration": 0.006145,
     "end_time": "2022-06-09T00:35:32.856059",
     "exception": false,
     "start_time": "2022-06-09T00:35:32.849914",
     "status": "completed"
    },
    "tags": []
   },
   "source": [
    "---\n",
    "\n",
    "\n",
    "\n",
    "\n",
    "*Have questions or comments? Visit the [course discussion forum](https://www.kaggle.com/learn/data-visualization/discussion) to chat with other learners.*"
   ]
  }
 ],
 "metadata": {
  "kernelspec": {
   "display_name": "Python 3",
   "language": "python",
   "name": "python3"
  },
  "language_info": {
   "codemirror_mode": {
    "name": "ipython",
    "version": 3
   },
   "file_extension": ".py",
   "mimetype": "text/x-python",
   "name": "python",
   "nbconvert_exporter": "python",
   "pygments_lexer": "ipython3",
   "version": "3.10.2 (tags/v3.10.2:a58ebcc, Jan 17 2022, 14:12:15) [MSC v.1929 64 bit (AMD64)]"
  },
  "papermill": {
   "default_parameters": {},
   "duration": 11.806302,
   "end_time": "2022-06-09T00:35:33.583309",
   "environment_variables": {},
   "exception": null,
   "input_path": "__notebook__.ipynb",
   "output_path": "__notebook__.ipynb",
   "parameters": {},
   "start_time": "2022-06-09T00:35:21.777007",
   "version": "2.3.4"
  },
  "vscode": {
   "interpreter": {
    "hash": "1215b1aecdd8c83375b241d0c862057777d1b41ed412da38189195d086960e71"
   }
  }
 },
 "nbformat": 4,
 "nbformat_minor": 5
}
